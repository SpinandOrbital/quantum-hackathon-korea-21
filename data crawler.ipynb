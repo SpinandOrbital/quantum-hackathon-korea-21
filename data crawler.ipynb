{
 "cells": [
  {
   "cell_type": "code",
   "execution_count": 16,
   "id": "e7b3164b",
   "metadata": {
    "scrolled": true
   },
   "outputs": [
    {
     "name": "stdout",
     "output_type": "stream",
     "text": [
      "2021-06-28\n",
      "time : 74.45273208618164\n"
     ]
    },
    {
     "data": {
      "image/png": "[encoded data removed]",
      "text/plain": [
       "<Figure size 432x288 with 1 Axes>"
      ]
     },
     "metadata": {
      "needs_background": "light"
     },
     "output_type": "display_data"
    }
   ],
   "source": [
    "### import necessary modules ###\n",
    "from bs4 import BeautifulSoup\n",
    "import requests ; import datetime\n",
    "import traceback; import pandas as pd\n",
    "import time; import os\n",
    "import numpy as np\n",
    "import matplotlib.pyplot as plt\n",
    "################################\n",
    "start = time.time()\n",
    "today = datetime.date.today()\n",
    "print(today)\n",
    "code = \"005930\" # code number of asset\n",
    "url = \"http://finance.naver.com/item/sise_day.nhn?code={code}\".format(code=code)  \n",
    "req=requests.get(url, headers={\"User-agent\" : \"Mozilla/5.0\"}) # call the cost of asset by request library\n",
    "req.encoding = \"unicode\" \n",
    "req.status_code\n",
    "soap = BeautifulSoup(req.text, \"lxml\")\n",
    "table_navi = soap.find(\"table\", class_ =\"Nnavi\")\n",
    "td_navi = table_navi.find(\"td\", class_=\"pgRR\")\n",
    "pg_last = td_navi.a.get(\"href\").rsplit(\"&\")[1]\n",
    "pg_last = pg_last.split(\"=\")[1]\n",
    "pg_last = int(pg_last)\n",
    "\n",
    "### defining basic parameters ###\n",
    "\n",
    "dateto = datetime.datetime.strftime(datetime.datetime.today(), \"%Y, %m, %d\")\n",
    "datefrom = datetime.datetime.strftime(datetime.datetime.today()-datetime.timedelta(days=7300), \"%Y, %m, %d\")\n",
    "### setting the data range : 20 years ###\n",
    "\n",
    "\n",
    "def parse_page(code, page):\n",
    "    try:\n",
    "        url = 'http://finance.naver.com/item/sise_day.nhn?code={code}&page={page}'.format(code=code, page=page)\n",
    "        res = requests.get(url, headers={\"User-agent\" : \"Mozilla/5.0\"})\n",
    "        _soap = BeautifulSoup(res.text, 'lxml')\n",
    "        _df = pd.read_html(str(_soap.find(\"table\")), header=0)[0]\n",
    "        _df = _df.dropna()\n",
    "        return _df\n",
    "    except Exception as e:\n",
    "        traceback.print_exc()\n",
    "    return None\n",
    "### parsing table from the naver finance ###\n",
    "\n",
    "df = None\n",
    "for page in range(1, pg_last+1):\n",
    "    _df = parse_page(code, page)\n",
    "    _df_filtered = _df[_df['날짜'] > datefrom]\n",
    "    if df is None:\n",
    "        df = _df_filtered\n",
    "    else:\n",
    "        df = pd.concat([df, _df_filtered])\n",
    "    if len(_df) > len(_df_filtered):\n",
    "        break\n",
    "### export data from parsed table to the form of dataFrame in parameter \"df\" ###\n",
    "\n",
    "cprice=df.sort_values(by=\"날짜\", ascending=True)\n",
    "cprice[\"5일이동평균\"]= cprice[\"종가\"].rolling(window=5,min_periods=1).mean()\n",
    "cprice[\"5일이동평균std\"] = cprice[\"종가\"].rolling(window=5, min_periods=1).std()\n",
    "### sorting data with descending date, calculate 5 days rolling average ###\n",
    "\n",
    "path_dir = \"data/{today}-crawling\".format(today=today)\n",
    "if not os.path.exists(path_dir):\n",
    "    os.makedirs(path_dir)\n",
    "path = os.path.join(path_dir, \"{code}_{datefrom}_{dateto}.csv\".format(code=code, datefrom=datefrom, dateto=dateto))\n",
    "df.to_csv(path, index=\"False\")\n",
    "### result data saving to csv : (-)(date)(closeprice)(delta)(openprice)(localmax)(localmin)(trade)(rolling5dayavg), DataFrame###\n",
    "\n",
    "market_date = np.array(cprice[\"날짜\"])\n",
    "close_price = np.array(cprice[\"종가\"])\n",
    "open_price = np.array(cprice[\"시가\"]) \n",
    "rolling_avg = np.array(cprice[\"5일이동평균\"])\n",
    "rolling_std = np.array(cprice[\"5일이동평균std\"])\n",
    "###setting result as a form of array###\n",
    "\n",
    "\n",
    "print(\"time :\", time.time()-start) ### Calculate elapsed time"
   ]
  },
  {
   "cell_type": "code",
   "execution_count": null,
   "id": "8d3444c4",
   "metadata": {},
   "outputs": [],
   "source": []
  },
  {
   "cell_type": "code",
   "execution_count": null,
   "id": "b959ebb2",
   "metadata": {},
   "outputs": [],
   "source": []
  },
  {
   "cell_type": "code",
   "execution_count": null,
   "id": "02a745b2",
   "metadata": {},
   "outputs": [],
   "source": []
  },
  {
   "cell_type": "code",
   "execution_count": null,
   "id": "892a341c",
   "metadata": {},
   "outputs": [],
   "source": []
  },
  {
   "cell_type": "code",
   "execution_count": null,
   "id": "a58ed880",
   "metadata": {},
   "outputs": [],
   "source": []
  }
 ],
 "metadata": {
  "kernelspec": {
   "display_name": "Python 3",
   "language": "python",
   "name": "python3"
  },
  "language_info": {
   "codemirror_mode": {
    "name": "ipython",
    "version": 3
   },
   "file_extension": ".py",
   "mimetype": "text/x-python",
   "name": "python",
   "nbconvert_exporter": "python",
   "pygments_lexer": "ipython3",
   "version": "3.8.8"
  }
 },
 "nbformat": 4,
 "nbformat_minor": 5
}
